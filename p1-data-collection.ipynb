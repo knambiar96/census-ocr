{
 "cells": [
  {
   "cell_type": "markdown",
   "id": "47a334a0-127f-4081-9fe4-8c639d93cdef",
   "metadata": {},
   "source": [
    "This notebook will use the AWS CLI interface to download files programattically. The entire database is 165 TB, which is untenable to store on any single machine, so the goal is to select some random (so as to avoid whatever biases there might be in any given part of the data) sections of the census and use that as your training set"
   ]
  },
  {
   "cell_type": "code",
   "execution_count": 1,
   "id": "34e09e3c-6aa6-40dd-8b3c-5ca0cce1aad9",
   "metadata": {},
   "outputs": [],
   "source": [
    "import numpy as np"
   ]
  },
  {
   "cell_type": "code",
   "execution_count": 2,
   "id": "9c3fb17d-1daf-4a25-8ea8-e215972cc5e4",
   "metadata": {},
   "outputs": [],
   "source": [
    "#!aws s3 sync s3://nara-1950-census/1950census/43290879-Arizona/43290879-Arizona-185483 [destination] --no-sign-request --quiet"
   ]
  },
  {
   "cell_type": "markdown",
   "id": "f51107e2-ee27-4a47-ade3-b7cd08a74e03",
   "metadata": {},
   "source": [
    "The above code will add a folder to the current directory called '\\[destination\\]' and add one specific set of files- the Arizona census files for a specific Enumeration District"
   ]
  },
  {
   "cell_type": "code",
   "execution_count": 2,
   "id": "f753d44f-b63d-4327-9c73-6a5f9e06fd85",
   "metadata": {},
   "outputs": [
    {
     "name": "stdout",
     "output_type": "stream",
     "text": [
      "                           PRE 43290879-Alabama/\n",
      "                           PRE 43290879-Alaska/\n",
      "                           PRE 43290879-American_Samoa/\n",
      "                           PRE 43290879-Arizona/\n",
      "                           PRE 43290879-Arkansas/\n",
      "                           PRE 43290879-California/\n",
      "                           PRE 43290879-Colorado/\n",
      "                           PRE 43290879-Connecticut/\n",
      "                           PRE 43290879-Delaware/\n",
      "                           PRE 43290879-District_of_Columbia/\n",
      "                           PRE 43290879-Florida/\n",
      "                           PRE 43290879-Georgia/\n",
      "                           PRE 43290879-Guam/\n",
      "                           PRE 43290879-Hawaii/\n",
      "                           PRE 43290879-Idaho/\n",
      "                           PRE 43290879-Illinois/\n",
      "                           PRE 43290879-Indiana/\n",
      "                           PRE 43290879-Iowa/\n",
      "                           PRE 43290879-Kansas/\n",
      "                           PRE 43290879-Kentucky/\n",
      "                           PRE 43290879-Louisiana/\n",
      "                           PRE 43290879-Maine/\n",
      "                           PRE 43290879-Maryland/\n",
      "                           PRE 43290879-Massachusetts/\n",
      "                           PRE 43290879-Michigan-181330/\n",
      "                           PRE 43290879-Michigan/\n",
      "                           PRE 43290879-Minnesota/\n",
      "                           PRE 43290879-Mississippi/\n",
      "                           PRE 43290879-Missouri/\n",
      "                           PRE 43290879-Montana/\n",
      "                           PRE 43290879-Nebraska/\n",
      "                           PRE 43290879-Nevada/\n",
      "                           PRE 43290879-New_Hampshire/\n",
      "                           PRE 43290879-New_Jersey/\n",
      "                           PRE 43290879-New_Mexico/\n",
      "                           PRE 43290879-New_York/\n",
      "                           PRE 43290879-North_Carolina/\n",
      "                           PRE 43290879-North_Dakota/\n",
      "                           PRE 43290879-Ohio/\n",
      "                           PRE 43290879-Oklahoma/\n",
      "                           PRE 43290879-Oregon/\n",
      "                           PRE 43290879-Panama_Canal_Zone/\n",
      "                           PRE 43290879-Pennsylvania/\n",
      "                           PRE 43290879-Puerto_Rico/\n",
      "                           PRE 43290879-Rhode_Island/\n",
      "                           PRE 43290879-South_Carolina/\n",
      "                           PRE 43290879-South_Dakota/\n",
      "                           PRE 43290879-Tennessee/\n",
      "                           PRE 43290879-Texas/\n",
      "                           PRE 43290879-Utah/\n",
      "                           PRE 43290879-Vermont/\n",
      "                           PRE 43290879-Virgin_Islands/\n",
      "                           PRE 43290879-Virginia/\n",
      "                           PRE 43290879-Washington/\n",
      "                           PRE 43290879-West_Virginia/\n",
      "                           PRE 43290879-Wisconsin/\n",
      "                           PRE 43290879-Wyoming/\n"
     ]
    }
   ],
   "source": [
    "!aws s3 ls s3://nara-1950-census/1950census/ --no-sign-request"
   ]
  },
  {
   "cell_type": "markdown",
   "id": "507a0a59-0ef8-44dd-a1db-77b48e2ffbe2",
   "metadata": {},
   "source": [
    "So these are all the census files by state, let's look at what's in them"
   ]
  },
  {
   "cell_type": "code",
   "execution_count": 7,
   "id": "fd34dc9e-3c8b-45ae-a372-f5959ead454d",
   "metadata": {},
   "outputs": [],
   "source": [
    "ga_vars = !aws s3 ls s3://nara-1950-census/1950census/43290879-Georgia/ --no-sign-request"
   ]
  },
  {
   "cell_type": "code",
   "execution_count": 18,
   "id": "2b14481a-0d65-4d82-8356-04655aaf02ab",
   "metadata": {},
   "outputs": [],
   "source": [
    "ga_vars = [x.strip()[4:] for x in ga_vars]"
   ]
  },
  {
   "cell_type": "code",
   "execution_count": 20,
   "id": "660c2ec9-0de6-4970-8cd0-80c22f2c7696",
   "metadata": {},
   "outputs": [
    {
     "data": {
      "text/plain": [
       "5141"
      ]
     },
     "execution_count": 20,
     "metadata": {},
     "output_type": "execute_result"
    }
   ],
   "source": [
    "len(ga_vars)"
   ]
  },
  {
   "cell_type": "markdown",
   "id": "e3c5a9de-e56c-46af-ac05-51f8004dc399",
   "metadata": {},
   "source": [
    "So now comes the important parts- we know that that initial commented out part returns about 200 MB of data, so we don't want to go crazy when we're looking at this- although keep in mind, the sections of the data we'll be looking at are rather small snippets of the page as a whole- so we don't have to worry as much about the data being larger than RAM- yet- but we might have to worry that the whole pages might be larger than free memory"
   ]
  },
  {
   "cell_type": "markdown",
   "id": "643c670f-a477-4ae1-9226-a6d1f28715c7",
   "metadata": {},
   "source": [
    "With what he have said- let's go through a process like this- for every state/territory folder, we'll randomly pull 2 folders from the list- that should come out to around 20 GB. If more is needed, we will take more, but that seems unlikely. For reproducibility, we will set a random state and write out what files we have"
   ]
  },
  {
   "cell_type": "code",
   "execution_count": 8,
   "id": "4707b884-450d-46d7-8dd0-9b9379298237",
   "metadata": {},
   "outputs": [],
   "source": [
    "def grab_fifty_census_section(rand,files_per_state,storage_folder):\n",
    "    '''\n",
    "    Downloads a portion of the population schedule of the 1950 Census from https://registry.opendata.aws/nara-1950-census/\n",
    "    In particular, takes a set amount of folders per each state/territory and stores to a specified folder\n",
    "    Also creates a text file in specified folder that lists out folders taken from 1950 Census for use by others\n",
    "    \n",
    "    Variables:\n",
    "    ~~~~~~~~~~~\n",
    "    rand: (int) random digit for reproducibility\n",
    "    \n",
    "    files_per_state: (int) Number of file folders you want per state- each folder corresponds to an enumeration district. Check maps on above site for further details on enumeration districts\n",
    "    \n",
    "    storage_folder: (str) folder (in current directory) where you want the files and associated folders to be saved. A '/' is required at the end of the storage folder string\n",
    "    \n",
    "    Returns:\n",
    "    ~~~~~~~~\n",
    "    Void\n",
    "    '''\n",
    "    rng = np.random.default_rng(rand) #from https://towardsdatascience.com/stop-using-numpy-random-seed-581a9972805f\n",
    "    state_folders = !aws s3 ls s3://nara-1950-census/1950census/ --no-sign-request\n",
    "    state_folders = [x.strip()[4:] for x in state_folders]\n",
    "    file_list = np.array([])\n",
    "    for state in state_folders:\n",
    "        new_files = grab_state_section(rng,files_per_state,state,storage_folder+state)\n",
    "        file_list = np.append(file_list,new_files)\n",
    "        \n",
    "    np.savetxt(storage_folder+'filelist.txt',file_list,fmt='%s')\n",
    "        "
   ]
  },
  {
   "cell_type": "code",
   "execution_count": 10,
   "id": "52f808dd-04a9-4ed2-a592-02bc79577537",
   "metadata": {},
   "outputs": [],
   "source": [
    "def grab_state_section(randgen,files_per_state,state,storage_folder):\n",
    "    '''\n",
    "    Sub-function that grabs specific folders per each state for grab_fifty_census_section.\n",
    "    \n",
    "    Variables:\n",
    "    ~~~~~~~~~~\n",
    "    randgen: RNG object created to make a reproducible state\n",
    "    \n",
    "    files_per_state: (int) number of folders you want per state\n",
    "    \n",
    "    state: (str) state/territory that's being dealt with- in particular, the folder name of said state\n",
    "    \n",
    "    storage_folder: (str) folder in which to store said subfolders- notably, includes state\n",
    "    '''\n",
    "    \n",
    "    filepath = 's3://nara-1950-census/1950census/' + state\n",
    "    state_vars = !aws s3 ls {filepath} --no-sign-request\n",
    "    state_vars = [x.strip()[4:] for x in state_vars]\n",
    "    selected_folders = randgen.choice(state_vars,files_per_state,replace=False)\n",
    "    \n",
    "    for folder in selected_folders:\n",
    "        !aws s3 sync {filepath+folder} {storage_folder+folder} --no-sign-request --quiet  \n",
    "        #thanks to https://stackoverflow.com/questions/35497069/passing-ipython-variables-as-arguments-to-bash-commands\n",
    "        #for the tip on putting variables in command-line\n",
    "    return np.array([filepath+y for y in selected_folders])\n",
    "    "
   ]
  },
  {
   "cell_type": "code",
   "execution_count": 9,
   "id": "20a665e6-6314-41cd-b7c6-16c0bd9c451b",
   "metadata": {},
   "outputs": [],
   "source": [
    "grab_fifty_census_section(815,2,'data/')"
   ]
  },
  {
   "cell_type": "markdown",
   "id": "f8c0eb01-a608-49fd-ba56-629e43acdb7d",
   "metadata": {},
   "source": [
    "In total, 15.5 GB. The random folder we picked was slightly larger than average, but there were are also more folders than previously anticipated"
   ]
  },
  {
   "cell_type": "markdown",
   "id": "e693ebf4-af6b-494c-8d7f-ac6f8afc34e9",
   "metadata": {},
   "source": [
    "Further steps should look at reducing these pages to individual cells that we can actually properly train a model on- then, starting the labeling process"
   ]
  }
 ],
 "metadata": {
  "kernelspec": {
   "display_name": "Python 3 (ipykernel)",
   "language": "python",
   "name": "python3"
  },
  "language_info": {
   "codemirror_mode": {
    "name": "ipython",
    "version": 3
   },
   "file_extension": ".py",
   "mimetype": "text/x-python",
   "name": "python",
   "nbconvert_exporter": "python",
   "pygments_lexer": "ipython3",
   "version": "3.9.7"
  }
 },
 "nbformat": 4,
 "nbformat_minor": 5
}
