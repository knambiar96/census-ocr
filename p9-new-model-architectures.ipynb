{
 "cells": [
  {
   "cell_type": "code",
   "execution_count": 1,
   "id": "626c9731-2956-4f5f-82f6-17b4ac95142c",
   "metadata": {},
   "outputs": [],
   "source": [
    "import pickle\n",
    "import tensorflow as tf\n",
    "import numpy as np\n",
    "\n",
    "import matplotlib.pyplot as plt\n",
    "from tensorflow.keras.layers import Input, Conv2D, MaxPooling2D, Reshape, Dense, Bidirectional, Dropout, LSTM\n",
    "from tensorflow.keras import Model\n",
    "from tensorflow.keras.backend import ctc_decode\n",
    "from tensorflow.keras.layers import Layer"
   ]
  },
  {
   "cell_type": "code",
   "execution_count": 2,
   "id": "8d5bf400-911b-425d-b30e-d40e4292ea4b",
   "metadata": {},
   "outputs": [],
   "source": [
    "with open('./imgtensor_sh.pkl','rb') as arrbee:\n",
    "    img_tensor_sh = pickle.load(arrbee)"
   ]
  },
  {
   "cell_type": "code",
   "execution_count": 3,
   "id": "16b7fc94-7ee6-45ad-9d41-db0ce9e72528",
   "metadata": {},
   "outputs": [],
   "source": [
    "with open('./labeltensor_shpad.pkl','rb') as ry:\n",
    "    lab_tensor_sh = pickle.load(ry)"
   ]
  },
  {
   "cell_type": "code",
   "execution_count": 4,
   "id": "e5501701-74e9-492a-8732-b8323dec21ea",
   "metadata": {},
   "outputs": [],
   "source": [
    "charlist = 'ABCDEFGHIJKLMNOPQRSTUVWXYZabcdefghijklmnopqrstuvwxyz .,-+1234567890'"
   ]
  },
  {
   "cell_type": "markdown",
   "id": "97466114-52fd-4375-8d81-779152c901b6",
   "metadata": {},
   "source": [
    "Consider using the string-lookup method instead"
   ]
  },
  {
   "cell_type": "code",
   "execution_count": 5,
   "id": "6a89dd75-1be2-445f-b26c-fe157442d5f7",
   "metadata": {},
   "outputs": [],
   "source": [
    "def CTCLoss(y_true, y_pred):\n",
    "    # Compute the training-time loss value\n",
    "    batch_len = tf.cast(tf.shape(y_true)[0], dtype=\"int64\")\n",
    "    input_length = tf.cast(tf.shape(y_pred)[1], dtype=\"int64\")\n",
    "    label_length = tf.cast(tf.math.count_nonzero(y_true,axis=-1,keepdims=True), dtype=\"int64\")\n",
    "\n",
    "    input_length = input_length * tf.ones(shape=(batch_len, 1), dtype=\"int64\")\n",
    "    label_length = label_length * tf.ones(shape=(batch_len, 1), dtype=\"int64\")\n",
    "\n",
    "    loss = tf.keras.backend.ctc_batch_cost(y_true, y_pred, input_length, label_length)\n",
    "    return loss"
   ]
  },
  {
   "cell_type": "code",
   "execution_count": 6,
   "id": "7033aa6d-f9bd-4d80-918a-5b72a2a335fe",
   "metadata": {},
   "outputs": [],
   "source": [
    "def decode_preds(pred_model,start,end):\n",
    "    preds = prediction_model.predict(img_tensor_sh[start:end])\n",
    "    len_tensor = tf.convert_to_tensor([len([l for l in lab if l>0]) for lab in lab_tensor_sh[start:end]])\n",
    "    pred_texts = ctc_decode(preds,len_tensor,greedy=True)\n",
    "    guess_list =  [''.join([charlist[p-1] for p in pred.numpy() if p > -1]) for pred in pred_texts[0][0]]\n",
    "    prob_list = [prob.numpy() for prob in pred_texts[0][1]]\n",
    "    return guess_list,prob_list"
   ]
  },
  {
   "cell_type": "code",
   "execution_count": null,
   "id": "c763233b-b4b6-49c6-9ef2-15f784c08aa2",
   "metadata": {},
   "outputs": [],
   "source": []
  }
 ],
 "metadata": {
  "kernelspec": {
   "display_name": "Python 3 (ipykernel)",
   "language": "python",
   "name": "python3"
  },
  "language_info": {
   "codemirror_mode": {
    "name": "ipython",
    "version": 3
   },
   "file_extension": ".py",
   "mimetype": "text/x-python",
   "name": "python",
   "nbconvert_exporter": "python",
   "pygments_lexer": "ipython3",
   "version": "3.9.7"
  }
 },
 "nbformat": 4,
 "nbformat_minor": 5
}
