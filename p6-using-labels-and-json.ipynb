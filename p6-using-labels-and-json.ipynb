{
 "cells": [
  {
   "cell_type": "code",
   "execution_count": 199,
   "id": "649ca204-8fa8-4d25-ac5d-1eb758fe3a41",
   "metadata": {},
   "outputs": [],
   "source": [
    "import shutil\n",
    "import numpy as np\n",
    "import os\n",
    "import random\n",
    "import json\n",
    "import cv2\n",
    "import matplotlib.pyplot as plt\n",
    "import pickle"
   ]
  },
  {
   "cell_type": "code",
   "execution_count": 2,
   "id": "5f390126-2d04-462e-90d7-93660f253feb",
   "metadata": {},
   "outputs": [],
   "source": [
    "with open('./full-annotations.json') as json_file:\n",
    "    data = json.load(json_file)"
   ]
  },
  {
   "cell_type": "code",
   "execution_count": 8,
   "id": "cbc98dfe-d5eb-47ba-80a4-73ab8802a00e",
   "metadata": {},
   "outputs": [
    {
     "data": {
      "text/plain": [
       "dict_keys(['id', 'annotations', 'file_upload', 'drafts', 'predictions', 'data', 'meta', 'created_at', 'updated_at', 'project'])"
      ]
     },
     "execution_count": 8,
     "metadata": {},
     "output_type": "execute_result"
    }
   ],
   "source": [
    "data[0].keys()"
   ]
  },
  {
   "cell_type": "code",
   "execution_count": 80,
   "id": "50cfd74a-5dbb-4215-8435-a1787b180aa7",
   "metadata": {},
   "outputs": [],
   "source": [
    "fn = '-'.join(data[10]['file_upload'].split('-')[1:])"
   ]
  },
  {
   "cell_type": "code",
   "execution_count": 81,
   "id": "a5921c5e-ce0e-47f1-8a42-f1b83cd55ab7",
   "metadata": {},
   "outputs": [],
   "source": [
    "ti = cv2.imread(f'./labeledcells/{fn}')"
   ]
  },
  {
   "cell_type": "code",
   "execution_count": 82,
   "id": "0d5fe9e5-2e74-483a-b306-01a16dfdf86e",
   "metadata": {},
   "outputs": [
    {
     "data": {
      "text/plain": [
       "<matplotlib.image.AxesImage at 0x2b6186ce610>"
      ]
     },
     "execution_count": 82,
     "metadata": {},
     "output_type": "execute_result"
    },
    {
     "data": {
      "image/png": "[encoded data removed]",
      "text/plain": [
       "<Figure size 432x288 with 1 Axes>"
      ]
     },
     "metadata": {
      "needs_background": "light"
     },
     "output_type": "display_data"
    }
   ],
   "source": [
    "plt.imshow(ti)"
   ]
  },
  {
   "cell_type": "code",
   "execution_count": 116,
   "id": "5e1f12b3-afa6-41d9-a084-234460e7c666",
   "metadata": {},
   "outputs": [
    {
     "data": {
      "text/plain": [
       "dict_keys(['x', 'y', 'width', 'height', 'rotation', 'text'])"
      ]
     },
     "execution_count": 116,
     "metadata": {},
     "output_type": "execute_result"
    }
   ],
   "source": [
    "data[0]['annotations'][0]['result'][11]['value'].keys()"
   ]
  },
  {
   "cell_type": "code",
   "execution_count": 40,
   "id": "44540325-3a53-4bd2-853b-7897ea6f0de3",
   "metadata": {},
   "outputs": [
    {
     "data": {
      "text/plain": [
       "(84.5075597516213, 14.250781102759246, 63.95187604576222, 1.025541530324211)"
      ]
     },
     "execution_count": 40,
     "metadata": {},
     "output_type": "execute_result"
    }
   ],
   "source": [
    "maxx = data[0]['annotations'][0]['result'][0]['value']['x']\n",
    "minx = data[0]['annotations'][0]['result'][0]['value']['x']\n",
    "maxy = data[0]['annotations'][0]['result'][0]['value']['y']\n",
    "miny = data[0]['annotations'][0]['result'][0]['value']['y']\n",
    "for anno in data[0]['annotations'][0]['result']:\n",
    "    if anno['value']['x'] > maxx:\n",
    "        maxx = anno['value']['x']\n",
    "    if anno['value']['x'] < minx:\n",
    "        minx = anno['value']['x']\n",
    "    if anno['value']['y'] > maxy:\n",
    "        maxy = anno['value']['y']\n",
    "    if anno['value']['y'] < miny:\n",
    "        miny = anno['value']['y']\n",
    "        \n",
    "maxx, minx, maxy, miny"
   ]
  },
  {
   "cell_type": "code",
   "execution_count": 75,
   "id": "256c57b9-59e2-4c39-9966-4dcdc4e92ca3",
   "metadata": {},
   "outputs": [
    {
     "data": {
      "text/plain": [
       "True"
      ]
     },
     "execution_count": 75,
     "metadata": {},
     "output_type": "execute_result"
    }
   ],
   "source": [
    "'text' in data[10]['annotations'][0]['result'][1]['value'].keys()\n"
   ]
  },
  {
   "cell_type": "code",
   "execution_count": 68,
   "id": "e90c8f1e-9241-4d96-8238-f3041ff19913",
   "metadata": {},
   "outputs": [
    {
     "data": {
      "text/plain": [
       "{'x': 10.833333333333334,\n",
       " 'y': 11.11111111111111,\n",
       " 'width': 71.25,\n",
       " 'height': 88.88888888888889,\n",
       " 'rotation': 0,\n",
       " 'text': ['--- Virginia']}"
      ]
     },
     "execution_count": 68,
     "metadata": {},
     "output_type": "execute_result"
    }
   ],
   "source": [
    "data[10]['annotations'][0]['result'][1]['value']"
   ]
  },
  {
   "cell_type": "code",
   "execution_count": 69,
   "id": "d3baf4d7-2c68-4b49-8974-f883639da1a6",
   "metadata": {},
   "outputs": [],
   "source": [
    "w,h = data[10]['annotations'][0]['result'][1]['original_width'],data[10]['annotations'][0]['result'][1]['original_height']"
   ]
  },
  {
   "cell_type": "code",
   "execution_count": 72,
   "id": "0db7a801-aeac-4264-b378-4f6714b42bbe",
   "metadata": {},
   "outputs": [
    {
     "data": {
      "text/plain": [
       "52"
      ]
     },
     "execution_count": 72,
     "metadata": {},
     "output_type": "execute_result"
    }
   ],
   "source": [
    "int(w*data[10]['annotations'][0]['result'][1]['value']['x']/100)"
   ]
  },
  {
   "cell_type": "code",
   "execution_count": 76,
   "id": "0ad51a22-9cc8-42d8-97b8-ccaa6b383e1c",
   "metadata": {},
   "outputs": [
    {
     "data": {
      "text/plain": [
       "394"
      ]
     },
     "execution_count": 76,
     "metadata": {},
     "output_type": "execute_result"
    }
   ],
   "source": [
    "int(w*data[10]['annotations'][0]['result'][1]['value']['width']/100 + 52)"
   ]
  },
  {
   "cell_type": "code",
   "execution_count": 78,
   "id": "16a51036-1fc0-48c5-8346-e962c5929590",
   "metadata": {},
   "outputs": [
    {
     "data": {
      "text/plain": [
       "7"
      ]
     },
     "execution_count": 78,
     "metadata": {},
     "output_type": "execute_result"
    }
   ],
   "source": [
    "int(h*data[10]['annotations'][0]['result'][1]['value']['y']/100)"
   ]
  },
  {
   "cell_type": "code",
   "execution_count": 83,
   "id": "58c5fd5d-7f9d-477a-b12b-0a648c0c721a",
   "metadata": {},
   "outputs": [
    {
     "data": {
      "text/plain": [
       "63"
      ]
     },
     "execution_count": 83,
     "metadata": {},
     "output_type": "execute_result"
    }
   ],
   "source": [
    "int(h*data[10]['annotations'][0]['result'][1]['value']['height']/100 + 7)"
   ]
  },
  {
   "cell_type": "code",
   "execution_count": 97,
   "id": "c4cbc5f9-13f6-4e23-8220-26d32d03b567",
   "metadata": {},
   "outputs": [
    {
     "data": {
      "text/plain": [
       "{'original_width': 480,\n",
       " 'original_height': 63,\n",
       " 'image_rotation': 0,\n",
       " 'value': {'x': 10.833333333333334,\n",
       "  'y': 11.11111111111111,\n",
       "  'width': 71.25,\n",
       "  'height': 88.88888888888889,\n",
       "  'rotation': 0,\n",
       "  'text': ['--- Virginia']},\n",
       " 'id': 'qJOJMZEN9e',\n",
       " 'from_name': 'transcription',\n",
       " 'to_name': 'image',\n",
       " 'type': 'textarea',\n",
       " 'origin': 'manual'}"
      ]
     },
     "execution_count": 97,
     "metadata": {},
     "output_type": "execute_result"
    }
   ],
   "source": [
    "data[10]['annotations'][0]['result'][1]"
   ]
  },
  {
   "cell_type": "code",
   "execution_count": 85,
   "id": "bcddafbc-3a5d-41f4-af60-ad95371bb24f",
   "metadata": {},
   "outputs": [
    {
     "data": {
      "text/plain": [
       "<matplotlib.image.AxesImage at 0x2b6186b0880>"
      ]
     },
     "execution_count": 85,
     "metadata": {},
     "output_type": "execute_result"
    },
    {
     "data": {
      "image/png": "[encoded data removed]",
      "text/plain": [
       "<Figure size 432x288 with 1 Axes>"
      ]
     },
     "metadata": {
      "needs_background": "light"
     },
     "output_type": "display_data"
    }
   ],
   "source": [
    "plt.imshow(ti[7:63,52:394,:])"
   ]
  },
  {
   "cell_type": "markdown",
   "id": "baceb4c3-1857-40cf-8760-6a541ad0a224",
   "metadata": {},
   "source": [
    "https://labelstud.io/guide/predictions.html taken from <"
   ]
  },
  {
   "cell_type": "code",
   "execution_count": 122,
   "id": "4e96b125-e904-4653-bf18-b16c3c9e6e7e",
   "metadata": {},
   "outputs": [
    {
     "data": {
      "text/plain": [
       "{'original_width': 3605,\n",
       " 'original_height': 2791,\n",
       " 'image_rotation': 0,\n",
       " 'value': {'x': 71.21747502600138,\n",
       "  'y': 1.1237304774017995,\n",
       "  'width': 4.874892641699322,\n",
       "  'height': 2.547122415444079,\n",
       "  'rotation': 0},\n",
       " 'id': 'C6KI3HeTlQ',\n",
       " 'from_name': 'bbox',\n",
       " 'to_name': 'image',\n",
       " 'type': 'rectangle',\n",
       " 'origin': 'manual'}"
      ]
     },
     "execution_count": 122,
     "metadata": {},
     "output_type": "execute_result"
    }
   ],
   "source": [
    "data[0]['annotations'][0]['result'][12]"
   ]
  },
  {
   "cell_type": "code",
   "execution_count": 159,
   "id": "86dff6c2-95c3-40d2-a4d5-d8a50ab70c09",
   "metadata": {},
   "outputs": [],
   "source": [
    "cv2.imread('bleheee')"
   ]
  },
  {
   "cell_type": "code",
   "execution_count": 171,
   "id": "1eee4c0a-97a0-4e5d-b98d-218dc1b63fd0",
   "metadata": {},
   "outputs": [],
   "source": [
    "def to_pixels(res,w,h):\n",
    "    values = res['value']\n",
    "    wmin = int(w*values['x']/100)\n",
    "    wmax = int(wmin+w*values['width']/100)\n",
    "    hmin = int(h*values['y']/100)\n",
    "    hmax = int(hmin+w*values['height']/100)\n",
    "    return wmin, wmax, hmin, hmax"
   ]
  },
  {
   "cell_type": "code",
   "execution_count": 187,
   "id": "e9564918-9a80-4c87-ba77-b7279f9dfc05",
   "metadata": {},
   "outputs": [],
   "source": [
    "def to_annotated_images(json, folder):\n",
    "    wmaxx = 2\n",
    "    hmaxx = 2\n",
    "    imglist = []\n",
    "    labelist = []\n",
    "    for entry in json:\n",
    "        jpg_name = '-'.join(entry['file_upload'].split('-')[1:])\n",
    "        read_img = cv2.imread(folder+jpg_name)\n",
    "        h,w=read_img.shape[:2]\n",
    "        results = entry['annotations'][0]['result']\n",
    "        if len(results)>0:\n",
    "            for res in results:\n",
    "                if 'text' in res['value'].keys():\n",
    "                    wmin,wmax,hmin,hmax = to_pixels(res,w,h)\n",
    "                    if (wmax-wmin)>wmaxx:\n",
    "                        wmaxx = wmax-wmin\n",
    "                    if (hmax-hmin)>hmaxx:\n",
    "                        hmaxx = hmax-hmin\n",
    "\n",
    "                    imglist.append(read_img[hmin:hmax,wmin:wmax,:])\n",
    "                    labelist.append(res['value']['text'])\n",
    "                           \n",
    "    return labelist,imglist,wmaxx,hmaxx\n",
    "                \n",
    "                "
   ]
  },
  {
   "cell_type": "code",
   "execution_count": 188,
   "id": "3de53f27-f08a-410a-a79c-8c622d9e0520",
   "metadata": {},
   "outputs": [],
   "source": [
    "lablist, imglist, wmax, hmax = to_annotated_images(data,'./labeledcells/')"
   ]
  },
  {
   "cell_type": "code",
   "execution_count": 198,
   "id": "b7a73f45-0d51-4608-bc5a-756a27382c97",
   "metadata": {},
   "outputs": [
    {
     "data": {
      "text/plain": [
       "(679, 480)"
      ]
     },
     "execution_count": 198,
     "metadata": {},
     "output_type": "execute_result"
    }
   ],
   "source": [
    "wmax,hmax"
   ]
  },
  {
   "cell_type": "code",
   "execution_count": 201,
   "id": "1ec09a62-ff9d-483a-8bc9-639df756f2cb",
   "metadata": {},
   "outputs": [],
   "source": [
    "with open('./imgfile.pkl','wb') as re:\n",
    "    pickle.dump(imglist,re)"
   ]
  },
  {
   "cell_type": "code",
   "execution_count": 202,
   "id": "366fbb63-7670-40f8-9aa3-3d7cb20d1dda",
   "metadata": {},
   "outputs": [],
   "source": [
    "with open('./labfile.pkl','wb') as ry:\n",
    "    pickle.dump(lablist,ry)"
   ]
  },
  {
   "cell_type": "code",
   "execution_count": null,
   "id": "77f28c27-36cf-41bf-a747-ba42241658f0",
   "metadata": {},
   "outputs": [],
   "source": []
  }
 ],
 "metadata": {
  "kernelspec": {
   "display_name": "Python 3 (ipykernel)",
   "language": "python",
   "name": "python3"
  },
  "language_info": {
   "codemirror_mode": {
    "name": "ipython",
    "version": 3
   },
   "file_extension": ".py",
   "mimetype": "text/x-python",
   "name": "python",
   "nbconvert_exporter": "python",
   "pygments_lexer": "ipython3",
   "version": "3.9.7"
  }
 },
 "nbformat": 4,
 "nbformat_minor": 5
}
