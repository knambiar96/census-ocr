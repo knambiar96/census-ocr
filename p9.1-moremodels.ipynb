{
 "cells": [
  {
   "cell_type": "code",
   "execution_count": 10,
   "id": "21c4fb54-c35c-4d4d-995a-4d2fd64247d2",
   "metadata": {},
   "outputs": [],
   "source": [
    "import pickle\n",
    "import tensorflow as tf\n",
    "import numpy as np\n",
    "\n",
    "import matplotlib.pyplot as plt\n",
    "from tensorflow.keras.layers import (Input, Conv2D, MaxPooling2D, Reshape, Dense, Bidirectional, Dropout, LSTM \n",
    ",StringLookup, ConvLSTM2D)\n",
    "from tensorflow.keras import Model\n",
    "from tensorflow.keras.backend import ctc_decode, ctc_batch_cost\n",
    "from tensorflow.keras.layers import Layer\n",
    "\n",
    "import Levenshtein as lev"
   ]
  },
  {
   "cell_type": "code",
   "execution_count": null,
   "id": "09209727-ab63-4eee-8d37-3e33a76cd204",
   "metadata": {},
   "outputs": [],
   "source": [
    "with open('./labeltensor_shpad.pkl','rb') as ry:\n",
    "    lab_tensor_sh = pickle.load(ry)"
   ]
  },
  {
   "cell_type": "code",
   "execution_count": null,
   "id": "3ce2a1a8-d30a-4ee8-99f1-89c5cf48898e",
   "metadata": {},
   "outputs": [],
   "source": [
    "with open('./imgtensor_trsh.pkl','rb') as wabi:\n",
    "    img_tensor_trsh = pickle.load(wabi)"
   ]
  },
  {
   "cell_type": "code",
   "execution_count": 2,
   "id": "b2c25e87-a5bd-46b5-8665-eb5b7c168c70",
   "metadata": {},
   "outputs": [],
   "source": [
    "charlist = 'ABCDEFGHIJKLMNOPQRSTUVWXYZabcdefghijklmnopqrstuvwxyz .,-+1234567890'"
   ]
  },
  {
   "cell_type": "code",
   "execution_count": 3,
   "id": "e38179e0-d291-4092-aea5-bd662505ca2f",
   "metadata": {},
   "outputs": [],
   "source": [
    "def CTCLoss(y_true, y_pred):\n",
    "    # Compute the training-time loss value\n",
    "    batch_len = tf.cast(tf.shape(y_true)[0], dtype=\"int64\")\n",
    "    input_length = tf.cast(tf.shape(y_pred)[1], dtype=\"int64\")\n",
    "    label_length = tf.cast(tf.shape(y_true)[1], dtype=\"int64\")\n",
    "\n",
    "    input_length = input_length * tf.ones(shape=(batch_len, 1), dtype=\"int64\")\n",
    "    label_length = label_length * tf.ones(shape=(batch_len, 1), dtype=\"int64\")\n",
    "\n",
    "    loss = ctc_batch_cost(y_true, y_pred, input_length, label_length)\n",
    "    return loss"
   ]
  },
  {
   "cell_type": "code",
   "execution_count": 4,
   "id": "930012d5-aca8-4851-9c61-ca72eb2ad8e1",
   "metadata": {},
   "outputs": [],
   "source": [
    "def decode_preds(pred_model,start,end):\n",
    "    preds = pred_model.predict(img_tensor_trsh[start:end])\n",
    "    len_tensor = tf.convert_to_tensor([len([l for l in lab if l>0]) for lab in lab_tensor_sh[start:end]])\n",
    "    pred_texts = ctc_decode(preds,len_tensor,greedy=True)\n",
    "    guess_list =  [''.join([charlist[p-1] for p in pred.numpy() if p > -1]) for pred in pred_texts[0][0]]\n",
    "    prob_list = pred_texts[1].numpy()\n",
    "    return guess_list,prob_list"
   ]
  },
  {
   "cell_type": "code",
   "execution_count": 5,
   "id": "b6d0ad3b-e5a6-454e-9b5e-cbcffa5e7377",
   "metadata": {},
   "outputs": [],
   "source": [
    "def post_distance(pred_model,start,end):\n",
    "    preds, _ = decode_preds(pred_model,start,end)\n",
    "    trues = [''.join([charlist[p-1] for p in lab.numpy()]) for lab in lab_tensor_sh[start:end]]\n",
    "    return sum([lev.distance(trues[i],preds[i]) for i in range(end-start)])/(end-start)\n",
    "# you can normalize the lev distance by dividing by length of longest word, but we'll leave that for now"
   ]
  },
  {
   "cell_type": "code",
   "execution_count": 22,
   "id": "4793c1fe-0f21-47c6-a303-052489c51184",
   "metadata": {},
   "outputs": [],
   "source": [
    "input_img = Input(shape=(679,480,1),name='image',dtype=\"float32\")\n",
    "\n",
    "\n",
    "x = Conv2D(32,(3,3),activation='relu',name='Conv1')(input_img)\n",
    "x = MaxPooling2D((2,2), name = \"pool1\")(x)\n",
    "x = Dropout(0.3,name = 'drop1')(x)\n",
    "\n",
    "\n",
    "x = Conv2D(64,(3,3),activation='relu',name='Conv2')(x)\n",
    "x = MaxPooling2D((2,2), name = \"pool2\")(x)\n",
    "x = Dropout(0.3, name = 'drop2')(x)\n",
    "\n",
    "x = Conv2D(128,(4,4), activation= 'relu',name='Conv3')(x)\n",
    "x = Conv2D(128,(5,5),activation='relu', name = 'Conv4')(x)\n",
    "x = MaxPooling2D((2,2), name = 'pool3')(x)\n",
    "x = Dropout(0.3,name = 'drop3')(x)\n",
    "\n",
    "x = Conv2D(128,(5,5), activation= 'relu', name = 'Conv5')(x)\n",
    "\n",
    "shape = (76,6528)\n",
    "\n",
    "x = Reshape(target_shape=shape, name = 'reshape')(x)\n",
    "x = Dense(64, activation='relu', name ='dense1')(x)\n",
    "x = Dropout(0.2,name = 'drop4')(x)\n",
    "\n",
    "x = Bidirectional(LSTM(256,return_sequences=True, dropout=0.25), name = 'LSTM1')(x)\n",
    "x = Bidirectional(LSTM(128,return_sequences=True,dropout=0.25), name = 'LSTM2')(x)\n",
    "x = Bidirectional(LSTM(64,return_sequences=True,dropout=0.25), name = 'LSTM3')(x)\n",
    "\n",
    "\n",
    "\n",
    "output = Dense(len(charlist)+2,activation='softmax',name='dense2')(x)\n",
    "\n",
    "\n",
    "model = Model(input_img,output,name='basic-OCRplus')\n",
    "model.compile(optimizer='adam',loss=CTCLoss)"
   ]
  },
  {
   "cell_type": "code",
   "execution_count": 23,
   "id": "2a4df66d-769c-430f-ac5f-3fda9f8ebdb8",
   "metadata": {},
   "outputs": [
    {
     "name": "stdout",
     "output_type": "stream",
     "text": [
      "Model: \"basic-OCRplus\"\n",
      "_________________________________________________________________\n",
      " Layer (type)                Output Shape              Param #   \n",
      "=================================================================\n",
      " image (InputLayer)          [(None, 679, 480, 1)]     0         \n",
      "                                                                 \n",
      " Conv1 (Conv2D)              (None, 677, 478, 32)      320       \n",
      "                                                                 \n",
      " pool1 (MaxPooling2D)        (None, 338, 239, 32)      0         \n",
      "                                                                 \n",
      " drop1 (Dropout)             (None, 338, 239, 32)      0         \n",
      "                                                                 \n",
      " Conv2 (Conv2D)              (None, 336, 237, 64)      18496     \n",
      "                                                                 \n",
      " pool2 (MaxPooling2D)        (None, 168, 118, 64)      0         \n",
      "                                                                 \n",
      " drop2 (Dropout)             (None, 168, 118, 64)      0         \n",
      "                                                                 \n",
      " Conv3 (Conv2D)              (None, 165, 115, 128)     131200    \n",
      "                                                                 \n",
      " Conv4 (Conv2D)              (None, 161, 111, 128)     409728    \n",
      "                                                                 \n",
      " pool3 (MaxPooling2D)        (None, 80, 55, 128)       0         \n",
      "                                                                 \n",
      " drop3 (Dropout)             (None, 80, 55, 128)       0         \n",
      "                                                                 \n",
      " Conv5 (Conv2D)              (None, 76, 51, 128)       409728    \n",
      "                                                                 \n",
      " reshape (Reshape)           (None, 76, 6528)          0         \n",
      "                                                                 \n",
      " dense1 (Dense)              (None, 76, 64)            417856    \n",
      "                                                                 \n",
      " drop4 (Dropout)             (None, 76, 64)            0         \n",
      "                                                                 \n",
      " LSTM1 (Bidirectional)       (None, 76, 512)           657408    \n",
      "                                                                 \n",
      " LSTM2 (Bidirectional)       (None, 76, 256)           656384    \n",
      "                                                                 \n",
      " LSTM3 (Bidirectional)       (None, 76, 128)           164352    \n",
      "                                                                 \n",
      " dense2 (Dense)              (None, 76, 69)            8901      \n",
      "                                                                 \n",
      "=================================================================\n",
      "Total params: 2,874,373\n",
      "Trainable params: 2,874,373\n",
      "Non-trainable params: 0\n",
      "_________________________________________________________________\n"
     ]
    }
   ],
   "source": [
    "model.summary()"
   ]
  },
  {
   "cell_type": "code",
   "execution_count": null,
   "id": "020dabf9-3c49-4c6c-8bfb-3d0917ff2c02",
   "metadata": {},
   "outputs": [],
   "source": [
    "eps = 100\n",
    "history = model.fit(img_tensor_trsh,lab_tensor_sh,validation_split=0.2, epochs=eps, batch_size=128)"
   ]
  },
  {
   "cell_type": "code",
   "execution_count": null,
   "id": "84beecf2-e981-490c-a96e-52645a640364",
   "metadata": {},
   "outputs": [],
   "source": [
    "pred_model = Model(model.get_layer(name='image').input, model.get_layer(name='dense2').output)"
   ]
  },
  {
   "cell_type": "code",
   "execution_count": null,
   "id": "e467e16b-e45e-45e8-ab40-5ad377f33e11",
   "metadata": {},
   "outputs": [],
   "source": [
    "guesses, probs = decode_preds(pred_model,0,1200)"
   ]
  },
  {
   "cell_type": "code",
   "execution_count": null,
   "id": "efe71d5b-4bda-4c18-9406-d8c7bdace498",
   "metadata": {},
   "outputs": [],
   "source": [
    "lev_d = post_distance(pred_model,0,1407)"
   ]
  }
 ],
 "metadata": {
  "kernelspec": {
   "display_name": "Python 3 (ipykernel)",
   "language": "python",
   "name": "python3"
  },
  "language_info": {
   "codemirror_mode": {
    "name": "ipython",
    "version": 3
   },
   "file_extension": ".py",
   "mimetype": "text/x-python",
   "name": "python",
   "nbconvert_exporter": "python",
   "pygments_lexer": "ipython3",
   "version": "3.9.7"
  }
 },
 "nbformat": 4,
 "nbformat_minor": 5
}
