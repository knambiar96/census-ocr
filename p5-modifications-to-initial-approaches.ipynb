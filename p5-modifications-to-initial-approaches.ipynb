{
 "cells": [
  {
   "cell_type": "code",
   "execution_count": 61,
   "id": "344c9846-af1a-4957-b2b2-9e6dba43d972",
   "metadata": {},
   "outputs": [],
   "source": [
    "import shutil\n",
    "import numpy as np\n",
    "import os\n",
    "import random\n",
    "import json"
   ]
  },
  {
   "cell_type": "code",
   "execution_count": 2,
   "id": "a51fa774-8fab-4505-a12e-839bd4e231c0",
   "metadata": {},
   "outputs": [],
   "source": [
    "files = next(os.walk('./segdata'))[1][1:] #1: avoids ipynb_checkpoints\n",
    "filenames = [next(os.walk('./segdata'+'/'+state+'/blocks'))[2] for state in files]\n",
    "filelist = [file for sublist in filenames for file in sublist if file.split('-')[0]=='seg']\n",
    "rngen = np.random.default_rng(815)\n",
    "rngen.shuffle(filelist)"
   ]
  },
  {
   "cell_type": "code",
   "execution_count": 3,
   "id": "ef084473-5905-4b26-a28f-2a96bb6bd676",
   "metadata": {},
   "outputs": [
    {
     "data": {
      "text/plain": [
       "['seg-43290879-Alabama-179492-0015.jpg',\n",
       " 'seg-43290879-Mississippi-202415-0018.jpg',\n",
       " 'seg-43290879-Florida-209496-0003.jpg',\n",
       " 'seg-43290879-Oklahoma-022554-0027.jpg',\n",
       " 'seg-43290879-Alabama-179492-0004.jpg',\n",
       " 'seg-43290879-Vermont-018589-0011.jpg',\n",
       " 'seg-43290879-Idaho-071830-0017.jpg',\n",
       " 'seg-43290879-Texas-116772-0020.jpg',\n",
       " 'seg-43290879-Illinois-073463-0008.jpg',\n",
       " 'seg-43290879-Maine-168869-0028.jpg',\n",
       " 'seg-43290879-New_Hampshire-202147-0002.jpg',\n",
       " 'seg-43290879-District_of_Columbia-117420-0007.jpg',\n",
       " 'seg-43290879-Maryland-109250-0015.jpg',\n",
       " 'seg-43290879-New_Jersey-201734-0022.jpg',\n",
       " 'seg-43290879-Nevada-130365-0003.jpg',\n",
       " 'seg-43290879-Massachusetts-190142-0017.jpg',\n",
       " 'seg-43290879-California-072663-0015.jpg',\n",
       " 'seg-43290879-California-070322-0015.jpg',\n",
       " 'seg-43290879-Tennessee-137204-0034.jpg',\n",
       " 'seg-43290879-Missouri-122870-0024.jpg']"
      ]
     },
     "execution_count": 3,
     "metadata": {},
     "output_type": "execute_result"
    }
   ],
   "source": [
    "filelist[20:40]"
   ]
  },
  {
   "cell_type": "code",
   "execution_count": 51,
   "id": "2c613f7a-359e-49bc-b804-224d1957d35b",
   "metadata": {},
   "outputs": [],
   "source": [
    "with open('./shorterJSON.json') as json_file:\n",
    "    data = json.load(json_file)"
   ]
  },
  {
   "cell_type": "code",
   "execution_count": 52,
   "id": "54d934a2-e472-47b3-ae9c-eaefc69cf8c2",
   "metadata": {},
   "outputs": [
    {
     "data": {
      "text/plain": [
       "list"
      ]
     },
     "execution_count": 52,
     "metadata": {},
     "output_type": "execute_result"
    }
   ],
   "source": [
    "type(data)"
   ]
  },
  {
   "cell_type": "code",
   "execution_count": 55,
   "id": "72698ebb-36a3-4c71-9a1b-4be6f780fc56",
   "metadata": {},
   "outputs": [
    {
     "data": {
      "text/plain": [
       "'8698c1e4-43290879-New_York-042398-0015-n-29.jpg'"
      ]
     },
     "execution_count": 55,
     "metadata": {},
     "output_type": "execute_result"
    }
   ],
   "source": [
    "data[0]['file_upload']"
   ]
  },
  {
   "cell_type": "code",
   "execution_count": 65,
   "id": "70c4b02b-f9d4-4a96-b6e6-486655f8965b",
   "metadata": {},
   "outputs": [],
   "source": [
    "lab_files = ['./cell-labels/'+'-'.join(file['file_upload'].split('-')[1:]) for file in data]"
   ]
  },
  {
   "cell_type": "code",
   "execution_count": 68,
   "id": "c882c1e6-e55a-4be0-b36f-12fedef4e3f8",
   "metadata": {},
   "outputs": [],
   "source": [
    "for file in lab_files:\n",
    "    shutil.copy(file,'./labeledcells')"
   ]
  },
  {
   "cell_type": "code",
   "execution_count": 71,
   "id": "b3aae841-9061-4aa9-b100-6bebb62e11d4",
   "metadata": {},
   "outputs": [
    {
     "data": {
      "text/plain": [
       "'./segdata/Mississippi/blocks/seg-43290879-Mississippi-202415-0018.jpg'"
      ]
     },
     "execution_count": 71,
     "metadata": {},
     "output_type": "execute_result"
    }
   ],
   "source": [
    "f'./segdata/{filelist[21].split(\"-\")[2]}/blocks/{filelist[21]}'"
   ]
  },
  {
   "cell_type": "code",
   "execution_count": 72,
   "id": "c5b0459b-3eeb-4275-b7cc-fb1d4b3fcd92",
   "metadata": {},
   "outputs": [],
   "source": [
    "for file in filelist[20:40]:\n",
    "    fullname = f'./segdata/{file.split(\"-\")[2]}/blocks/{file}'\n",
    "    shutil.copy(fullname,'./labeledcells')"
   ]
  },
  {
   "cell_type": "code",
   "execution_count": null,
   "id": "54a99712-0551-4c7f-8521-346f37a6cd72",
   "metadata": {},
   "outputs": [],
   "source": []
  }
 ],
 "metadata": {
  "kernelspec": {
   "display_name": "Python 3 (ipykernel)",
   "language": "python",
   "name": "python3"
  },
  "language_info": {
   "codemirror_mode": {
    "name": "ipython",
    "version": 3
   },
   "file_extension": ".py",
   "mimetype": "text/x-python",
   "name": "python",
   "nbconvert_exporter": "python",
   "pygments_lexer": "ipython3",
   "version": "3.9.7"
  }
 },
 "nbformat": 4,
 "nbformat_minor": 5
}
