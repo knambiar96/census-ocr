{
 "cells": [
  {
   "cell_type": "code",
   "execution_count": null,
   "id": "bc7e6158-c8e1-4658-a6b5-299f4e4acd2b",
   "metadata": {},
   "outputs": [],
   "source": [
    "%pip install python-Levenshtein"
   ]
  },
  {
   "cell_type": "code",
   "execution_count": null,
   "id": "e98b547a-b040-4d8d-9a8f-4d54b46182db",
   "metadata": {},
   "outputs": [],
   "source": [
    "import pickle\n",
    "import tensorflow as tf\n",
    "import numpy as np\n",
    "import cv2\n",
    "import matplotlib.pyplot as plt\n",
    "from tensorflow.keras.layers import Input, Conv2D, MaxPooling2D, Reshape, Dense, Bidirectional, Dropout, LSTM\n",
    "from tensorflow.keras import Model\n",
    "from tensorflow.keras.backend import ctc_decode\n",
    "import Levenshtein as lev\n",
    "from collections import Counter"
   ]
  },
  {
   "cell_type": "code",
   "execution_count": null,
   "id": "797c0d45-5167-4686-94bd-ad9bcfd69b2f",
   "metadata": {},
   "outputs": [],
   "source": [
    "from google.colab import drive\n",
    "drive.mount('/content/drive')\n",
    "\n",
    "with open('./drive/MyDrive/imgtensor_sh.pkl','rb') as arrbee:\n",
    "    img_tensor_sh = pickle.load(arrbee)\n",
    "    \n",
    "with open('./labeltensor_shpad.pkl','rb') as ry:\n",
    "    lab_tensor_sh = pickle.load(ry)\n",
    "    \n",
    "\n",
    "\n",
    "\n",
    "    \n",
    "charlist = 'ABCDEFGHIJKLMNOPQRSTUVWXYZabcdefghijklmnopqrstuvwxyz .,-+1234567890'\n",
    "\n",
    "\n",
    "def CTCLoss(y_true, y_pred):\n",
    "    # Compute the training-time loss value\n",
    "    batch_len = tf.cast(tf.shape(y_true)[0], dtype=\"int64\")\n",
    "    input_length = tf.cast(tf.shape(y_pred)[1], dtype=\"int64\")\n",
    "    label_length = tf.cast(tf.shape(y_true)[1], dtype=\"int64\")\n",
    "\n",
    "    input_length = input_length * tf.ones(shape=(batch_len, 1), dtype=\"int64\")\n",
    "    label_length = label_length * tf.ones(shape=(batch_len, 1), dtype=\"int64\")\n",
    "\n",
    "    loss = tf.keras.backend.ctc_batch_cost(y_true, y_pred, input_length, label_length)\n",
    "    return loss\n",
    "\n",
    "\n",
    "def decode_preds(pred_model,start,end):\n",
    "    #preds = pred_model.predict(img_tensor_trsh[start:end])\n",
    "    preds = pred_model\n",
    "    len_tensor = tf.convert_to_tensor([len([l for l in lab if l>0]) for lab in lab_tensor_sh[start:end]])\n",
    "    pred_texts = ctc_decode(preds,len_tensor,greedy=True)\n",
    "    guess_list =  [''.join([charlist[p-1] for p in pred.numpy() if p > -1]) for pred in pred_texts[0][0]]\n",
    "    prob_list = pred_texts[1].numpy()\n",
    "    return guess_list,prob_list\n",
    "\n",
    "def post_distance(pred_model,start,end):\n",
    "    preds, _ = decode_preds(pred_model,start,end)\n",
    "    trues = [''.join([charlist[p-1] for p in lab.numpy() if p>0]) for lab in lab_tensor_sh[start:end]]\n",
    "    return np.mean([lev.distance(trues[i],preds[i]) for i in range(end-start)])"
   ]
  },
  {
   "cell_type": "code",
   "execution_count": null,
   "id": "8bcd8075-02fc-453e-ab98-2b5e1ef4e499",
   "metadata": {},
   "outputs": [],
   "source": [
    "\n",
    "!unzip fm2.zip -d ./firstmodel2/    \n",
    "model2 = tf.keras.models.load_model('./firstmodel2/first_model_200', custom_objects={'CTCLoss':CTCLoss})"
   ]
  },
  {
   "cell_type": "code",
   "execution_count": null,
   "id": "5202aa0b-2d56-4f1a-b679-e36d943f6193",
   "metadata": {},
   "outputs": [],
   "source": [
    "\n",
    "hist2 = model2.fit(img_tensor_sh,lab_tensor_sh,validation_split=0.2, epochs=eps,callbacks=[early_stopping])"
   ]
  },
  {
   "cell_type": "code",
   "execution_count": null,
   "id": "e3ba37b9-70eb-4ddd-a9c2-85459b12a198",
   "metadata": {},
   "outputs": [],
   "source": [
    "pred_model = model2.predict(img_tensor_sh)\n",
    "guesses,preds = decode_preds(pred_model,0,1407)\n",
    "\n",
    "trues = trues = [''.join([charlist[p-1] for p in  lab.numpy() if p>0]) for lab in lab_tensor_sh[:1407]]"
   ]
  },
  {
   "cell_type": "code",
   "execution_count": null,
   "id": "1f436356-a40f-47b4-9dc9-ced8dba0bc65",
   "metadata": {},
   "outputs": [],
   "source": [
    "post_distance(pred_model,0,1407)"
   ]
  }
 ],
 "metadata": {
  "kernelspec": {
   "display_name": "Python 3 (ipykernel)",
   "language": "python",
   "name": "python3"
  },
  "language_info": {
   "codemirror_mode": {
    "name": "ipython",
    "version": 3
   },
   "file_extension": ".py",
   "mimetype": "text/x-python",
   "name": "python",
   "nbconvert_exporter": "python",
   "pygments_lexer": "ipython3",
   "version": "3.9.7"
  }
 },
 "nbformat": 4,
 "nbformat_minor": 5
}
