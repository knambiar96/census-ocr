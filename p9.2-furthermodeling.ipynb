{
 "cells": [
  {
   "cell_type": "code",
   "execution_count": 10,
   "id": "a966829b-de18-409a-8e99-8162364a0b3c",
   "metadata": {},
   "outputs": [],
   "source": [
    "import pickle\n",
    "import tensorflow as tf\n",
    "import numpy as np\n",
    "\n",
    "import matplotlib.pyplot as plt\n",
    "from tensorflow.keras.layers import (Input, Conv2D, MaxPooling2D, Reshape, Dense, Bidirectional, Dropout, LSTM \n",
    ",StringLookup, ConvLSTM2D)\n",
    "from tensorflow.keras import Model\n",
    "from tensorflow.keras.backend import ctc_decode, ctc_batch_cost\n",
    "from tensorflow.keras.layers import Layer\n",
    "\n",
    "import Levenshtein as lev\n",
    "\n"
   ]
  },
  {
   "cell_type": "code",
   "execution_count": null,
   "id": "92813988-c981-401d-8bfd-518adfa5f06e",
   "metadata": {},
   "outputs": [],
   "source": [
    "with open('./labeltensor_shpad.pkl','rb') as ry:\n",
    "    lab_tensor_sh = pickle.load(ry)"
   ]
  },
  {
   "cell_type": "code",
   "execution_count": null,
   "id": "0347a201-00d1-48b6-9699-2c09299d66e4",
   "metadata": {},
   "outputs": [],
   "source": [
    "with open('./imgtensor_sh.pkl','rb') as wabi:\n",
    "    img_tensor_sh = pickle.load(wabi)"
   ]
  },
  {
   "cell_type": "code",
   "execution_count": 3,
   "id": "342a144b-cd08-4f27-8581-3a91f065dc1b",
   "metadata": {},
   "outputs": [],
   "source": [
    "charlist = 'ABCDEFGHIJKLMNOPQRSTUVWXYZabcdefghijklmnopqrstuvwxyz .,-+1234567890'"
   ]
  },
  {
   "cell_type": "code",
   "execution_count": 11,
   "id": "c432a299-c721-4e51-aad2-e1fea0fb634c",
   "metadata": {},
   "outputs": [],
   "source": [
    "def CTCLoss(y_true, y_pred):\n",
    "    # Compute the training-time loss value\n",
    "    #trying this method here-  \n",
    "    #https://stackoverflow.com/questions/64321779/how-to-use-tf-ctc-loss-with-variable-length-features-and-labels\n",
    "    label_length = tf.count_nonzero(y_true, axis= -1, keepdims = True)\n",
    "    input_length = tf.reshape(tf.reduce_sum(tf.cast(y_pred._keras_mask,tf.float32),axis=1),(2,-1))\n",
    "\n",
    "    loss = ctc_batch_cost(y_true, y_pred, input_length, label_length)\n",
    "    return tf.reduce_mean(loss)"
   ]
  },
  {
   "cell_type": "code",
   "execution_count": 5,
   "id": "ba855441-82ce-418e-ae84-c7ae78454a51",
   "metadata": {},
   "outputs": [],
   "source": [
    "def decode_preds(pred_model,start,end):\n",
    "    preds = pred_model.predict(img_tensor_trsh[start:end])\n",
    "    len_tensor = tf.convert_to_tensor([len([l for l in lab if l>0]) for lab in lab_tensor_sh[start:end]])\n",
    "    pred_texts = ctc_decode(preds,len_tensor,greedy=True)\n",
    "    guess_list =  [''.join([charlist[p-1] for p in pred.numpy() if p > -1]) for pred in pred_texts[0][0]]\n",
    "    prob_list = pred_texts[1].numpy()\n",
    "    return guess_list,prob_list"
   ]
  },
  {
   "cell_type": "code",
   "execution_count": 6,
   "id": "d729d3f4-6a11-4882-8593-56c8c1ec7697",
   "metadata": {},
   "outputs": [],
   "source": [
    "def post_distance(pred_model,start,end):\n",
    "    preds, _ = decode_preds(pred_model,start,end)\n",
    "    trues = [''.join([charlist[p-1] for p in lab.numpy()]) for lab in lab_tensor_sh[start:end]]\n",
    "    return np.mean([lev.distance(trues[i],preds[i]) for i in range(end-start)])"
   ]
  },
  {
   "cell_type": "code",
   "execution_count": 12,
   "id": "ef1acb8e-12f4-4844-ad14-492ef717cb52",
   "metadata": {},
   "outputs": [],
   "source": [
    "input_img = Input(shape=(679,480,1),name='image',dtype=\"float32\")\n",
    "\n",
    "\n",
    "x = Conv2D(32,(3,3),activation='relu',name='Conv1')(input_img)\n",
    "x = MaxPooling2D((2,2), name = \"pool1\")(x)\n",
    "x = Dropout(0.3,name = 'drop1')(x)\n",
    "\n",
    "\n",
    "x = Conv2D(64,(3,3),activation='relu',name='Conv2')(x)\n",
    "x = MaxPooling2D((2,2), name = \"pool2\")(x)\n",
    "x = Dropout(0.3, name = 'drop2')(x)\n",
    "\n",
    "x = Conv2D(128,(4,4), activation= 'relu',name='Conv3')(x)\n",
    "x = Conv2D(128,(5,5),activation='relu', name = 'Conv4')(x)\n",
    "x = MaxPooling2D((2,2), name = 'pool3')(x)\n",
    "x = Dropout(0.3,name = 'drop3')(x)\n",
    "\n",
    "x = Conv2D(128,(5,5), activation= 'relu', name = 'Conv5')(x)\n",
    "\n",
    "shape = (76,6528)\n",
    "\n",
    "x = Reshape(target_shape=shape, name = 'reshape')(x)\n",
    "x = Dense(64, activation='relu', name ='dense1')(x)\n",
    "x = Dropout(0.2,name = 'drop4')(x)\n",
    "\n",
    "x = Bidirectional(LSTM(256,return_sequences=True, dropout=0.25), name = 'LSTM1')(x)\n",
    "x = Bidirectional(LSTM(128,return_sequences=True,dropout=0.25), name = 'LSTM2')(x)\n",
    "x = Bidirectional(LSTM(64,return_sequences=True,dropout=0.25), name = 'LSTM3')(x)\n",
    "\n",
    "\n",
    "\n",
    "output = Dense(len(charlist)+2,activation='softmax',name='dense2')(x)\n",
    "tf.keras.layers.Softmax()\n",
    "tf.keras.layers.Masking()\n",
    "\n",
    "model = Model(input_img,output,name='basic-OCRplusvar')\n",
    "model.compile(optimizer='adam',loss=CTCLoss)"
   ]
  },
  {
   "cell_type": "code",
   "execution_count": 13,
   "id": "060edf56-8572-4035-8996-00ce7ab81f5a",
   "metadata": {},
   "outputs": [
    {
     "name": "stdout",
     "output_type": "stream",
     "text": [
      "Model: \"basic-OCRplusvar\"\n",
      "_________________________________________________________________\n",
      " Layer (type)                Output Shape              Param #   \n",
      "=================================================================\n",
      " image (InputLayer)          [(None, 679, 480, 1)]     0         \n",
      "                                                                 \n",
      " Conv1 (Conv2D)              (None, 677, 478, 32)      320       \n",
      "                                                                 \n",
      " pool1 (MaxPooling2D)        (None, 338, 239, 32)      0         \n",
      "                                                                 \n",
      " drop1 (Dropout)             (None, 338, 239, 32)      0         \n",
      "                                                                 \n",
      " Conv2 (Conv2D)              (None, 336, 237, 64)      18496     \n",
      "                                                                 \n",
      " pool2 (MaxPooling2D)        (None, 168, 118, 64)      0         \n",
      "                                                                 \n",
      " drop2 (Dropout)             (None, 168, 118, 64)      0         \n",
      "                                                                 \n",
      " Conv3 (Conv2D)              (None, 165, 115, 128)     131200    \n",
      "                                                                 \n",
      " Conv4 (Conv2D)              (None, 161, 111, 128)     409728    \n",
      "                                                                 \n",
      " pool3 (MaxPooling2D)        (None, 80, 55, 128)       0         \n",
      "                                                                 \n",
      " drop3 (Dropout)             (None, 80, 55, 128)       0         \n",
      "                                                                 \n",
      " Conv5 (Conv2D)              (None, 76, 51, 128)       409728    \n",
      "                                                                 \n",
      " reshape (Reshape)           (None, 76, 6528)          0         \n",
      "                                                                 \n",
      " dense1 (Dense)              (None, 76, 64)            417856    \n",
      "                                                                 \n",
      " drop4 (Dropout)             (None, 76, 64)            0         \n",
      "                                                                 \n",
      " LSTM1 (Bidirectional)       (None, 76, 512)           657408    \n",
      "                                                                 \n",
      " LSTM2 (Bidirectional)       (None, 76, 256)           656384    \n",
      "                                                                 \n",
      " LSTM3 (Bidirectional)       (None, 76, 128)           164352    \n",
      "                                                                 \n",
      " dense2 (Dense)              (None, 76, 69)            8901      \n",
      "                                                                 \n",
      "=================================================================\n",
      "Total params: 2,874,373\n",
      "Trainable params: 2,874,373\n",
      "Non-trainable params: 0\n",
      "_________________________________________________________________\n"
     ]
    }
   ],
   "source": [
    "model.summary()"
   ]
  },
  {
   "cell_type": "code",
   "execution_count": null,
   "id": "b7a30bf6-fe33-4cb0-b5aa-02a1d3f864f9",
   "metadata": {},
   "outputs": [],
   "source": [
    "eps = 100\n",
    "history = model.fit(img_tensor_sh,lab_tensor_sh,validation_split=0.2, epochs=eps)"
   ]
  }
 ],
 "metadata": {
  "kernelspec": {
   "display_name": "Python 3 (ipykernel)",
   "language": "python",
   "name": "python3"
  },
  "language_info": {
   "codemirror_mode": {
    "name": "ipython",
    "version": 3
   },
   "file_extension": ".py",
   "mimetype": "text/x-python",
   "name": "python",
   "nbconvert_exporter": "python",
   "pygments_lexer": "ipython3",
   "version": "3.9.7"
  }
 },
 "nbformat": 4,
 "nbformat_minor": 5
}
