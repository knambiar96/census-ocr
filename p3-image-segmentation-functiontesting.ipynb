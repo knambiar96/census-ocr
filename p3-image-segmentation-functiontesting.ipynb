{
 "cells": [
  {
   "cell_type": "code",
   "execution_count": 46,
   "id": "1d1695b5-0922-428f-b632-d88268d9437e",
   "metadata": {},
   "outputs": [],
   "source": [
    "import cv2\n",
    "import matplotlib.pyplot as plt\n",
    "import numpy as np\n",
    "from skimage.filters import threshold_otsu\n",
    "import os\n",
    "from PIL import Image"
   ]
  },
  {
   "cell_type": "code",
   "execution_count": 81,
   "id": "90a2810a-4ed2-47b2-b181-75162b39052a",
   "metadata": {},
   "outputs": [],
   "source": [
    "test_directory = './data/43290879-American_Samoa/'\n",
    "test_header = './data/43290879-American_Samoa/samoa-header.jpg'\n",
    "out_folder = 'segdata/American_Samoa/blocks/'"
   ]
  },
  {
   "cell_type": "code",
   "execution_count": 84,
   "id": "8de12284-da07-452c-9901-7854bececacd",
   "metadata": {
    "tags": []
   },
   "outputs": [],
   "source": [
    "# for root, dirs, files in os.walk(test_directory):\n",
    "#     for filename in files:\n",
    "#         if len(dirs)==0:\n",
    "#             print(root+'/'+filename)"
   ]
  },
  {
   "cell_type": "code",
   "execution_count": 82,
   "id": "2a0d3f06-3318-42d4-9841-65c5057ee78f",
   "metadata": {},
   "outputs": [],
   "source": [
    "def block_segmenter(directory,header,outputfolder):\n",
    "    head_img = cv2.imread(header)\n",
    "    for root, dirs, files in os.walk(directory):\n",
    "        for filename in files:\n",
    "            if len(dirs) == 0:\n",
    "                fname = root + '/' + filename\n",
    "                img = cv2.imread(fname)\n",
    "                crop_img = edge_clip_rotate(img)\n",
    "                temp_suc,seg_img = template_match(crop_img,head_img)\n",
    "                if temp_suc:\n",
    "                    cv2.imwrite(outputfolder+'seg-'+filename,seg_img)\n",
    "                    \n",
    "                else:\n",
    "                    cv2.imwrite(outputfolder+'fail-'+filename,seg_img)\n",
    "                    \n",
    "               \n",
    "            "
   ]
  },
  {
   "cell_type": "code",
   "execution_count": 16,
   "id": "1a2af59d-9103-422a-9ad4-7408aec542da",
   "metadata": {},
   "outputs": [],
   "source": [
    "def edge_clip_rotate(image):\n",
    "    gray = cv2.cvtColor(image,cv2.COLOR_RGB2GRAY)\n",
    "    _,thresh = cv2.threshold(gray, np.mean(gray), 255, cv2.THRESH_BINARY_INV)\n",
    "    edges = cv2.dilate(cv2.Canny(thresh,0,255), None)\n",
    "    cnt = sorted(cv2.findContours(edges, cv2.RETR_LIST, cv2.CHAIN_APPROX_SIMPLE)[-2], key = cv2.contourArea)[-1]\n",
    "    mask = np.zeros(gray.shape[0:2],np.uint8)\n",
    "    masked = cv2.drawContours(mask, [cnt],-1,255,-1)\n",
    "    \n",
    "    left = cnt[cnt[:,:,0].argmin()][0]\n",
    "    right = cnt[cnt[:,:,0].argmax()][0]\n",
    "    top = cnt[cnt[:,:,1].argmin()][0]\n",
    "    bottom = cnt[cnt[:,:,1].argmax()][0]\n",
    "    \n",
    "    lb = (bottom[0]-left[0])/(bottom[1]-left[1])\n",
    "    rb = (right[1]-bottom[1])/(bottom[0]-right[0])\n",
    "    tl = (left[1]-top[1])/(top[0]-left[0])\n",
    "    tr = (right[0]-top[0])/(right[1]-top[1])\n",
    "    \n",
    "    \n",
    "    if right[1]<left[1]: #if right_y <left_y, that is, page is shifted cw relative to straight\n",
    "        angle = sum([np.arctan(1/tl),np.arctan(1/rb)])*90/np.pi\n",
    "    else:\n",
    "        angle = sum([np.arctan(tr),np.arctan(lb)])*-90/np.pi\n",
    "        multiplier = -1\n",
    "    cropped_image = image[left[0]:right[0],top[1]:bottom[1]]\n",
    "    (h,w) = cropped_image.shape[:2]\n",
    "    center = (w/2,h/2)\n",
    "    rotmat = cv2.getRotationMatrix2D(center,angle,1)\n",
    "    croprot_image = cv2.warpAffine(cropped_image,rotmat,(w,h))\n",
    "    return croprot_image"
   ]
  },
  {
   "cell_type": "code",
   "execution_count": 24,
   "id": "94dde0b0-053c-430c-a74b-2842cdb01e77",
   "metadata": {},
   "outputs": [],
   "source": [
    "def template_match(cropped, header):\n",
    "    if header.shape[1]>cropped.shape[1]:\n",
    "        return False, cropped\n",
    "    w,h = header.shape[::-1][1:3]\n",
    "    res = cv2.matchTemplate(cropped,header,cv2.TM_CCOEFF)\n",
    "    min_val, max_val, min_loc, max_loc = cv2.minMaxLoc(res)\n",
    "    top_left = max_loc\n",
    "    bottom_right = (top_left[0]+w,top_left[1]+h)\n",
    "    segmented = cropped[bottom_right[1]:,top_left[0]:bottom_right[0],:]\n",
    "    return True, segmented"
   ]
  },
  {
   "cell_type": "code",
   "execution_count": 85,
   "id": "eaecb2e0-78bd-4feb-9a74-b4fb0aad3a10",
   "metadata": {},
   "outputs": [],
   "source": [
    "#block_segmenter(test_directory,test_header,out_folder)"
   ]
  },
  {
   "cell_type": "markdown",
   "id": "d0050ff8-1a16-4880-8112-5124b93027f8",
   "metadata": {},
   "source": [
    "Pretty good- some duds, but quite a few came out very nicely. You might want to add a test to see if you need to do the crop/rotation part- ex: Alabama clearly doesn't need it, so putting it in there might be a notable loss by doing it. But, it's to be seen. If you just run Alabama and it works fine, why worry?"
   ]
  },
  {
   "cell_type": "code",
   "execution_count": null,
   "id": "72c6f246-088a-4725-914e-f98267be6ce0",
   "metadata": {},
   "outputs": [],
   "source": []
  }
 ],
 "metadata": {
  "kernelspec": {
   "display_name": "Python 3 (ipykernel)",
   "language": "python",
   "name": "python3"
  },
  "language_info": {
   "codemirror_mode": {
    "name": "ipython",
    "version": 3
   },
   "file_extension": ".py",
   "mimetype": "text/x-python",
   "name": "python",
   "nbconvert_exporter": "python",
   "pygments_lexer": "ipython3",
   "version": "3.9.7"
  }
 },
 "nbformat": 4,
 "nbformat_minor": 5
}
