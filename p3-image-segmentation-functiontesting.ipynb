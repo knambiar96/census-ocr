{
 "cells": [
  {
   "cell_type": "code",
   "execution_count": 56,
   "id": "1d1695b5-0922-428f-b632-d88268d9437e",
   "metadata": {},
   "outputs": [],
   "source": [
    "import cv2\n",
    "import matplotlib.pyplot as plt\n",
    "import numpy as np\n",
    "from skimage.filters import threshold_otsu\n",
    "import os\n",
    "from PIL import Image\n"
   ]
  },
  {
   "cell_type": "code",
   "execution_count": 81,
   "id": "90a2810a-4ed2-47b2-b181-75162b39052a",
   "metadata": {},
   "outputs": [],
   "source": [
    "test_directory = './data/43290879-American_Samoa/'\n",
    "test_header = './data/43290879-American_Samoa/samoa-header.jpg'\n",
    "out_folder = 'segdata/American_Samoa/blocks/'"
   ]
  },
  {
   "cell_type": "code",
   "execution_count": 84,
   "id": "8de12284-da07-452c-9901-7854bececacd",
   "metadata": {
    "tags": []
   },
   "outputs": [],
   "source": [
    "# for root, dirs, files in os.walk(test_directory):\n",
    "#     for filename in files:\n",
    "#         if len(dirs)==0:\n",
    "#             print(root+'/'+filename)"
   ]
  },
  {
   "cell_type": "code",
   "execution_count": 44,
   "id": "2a0d3f06-3318-42d4-9841-65c5057ee78f",
   "metadata": {},
   "outputs": [],
   "source": [
    "def block_segmenter(directory,header,outputfolder,rotate):\n",
    "    head_img = cv2.imread(header)\n",
    "    for root, dirs, files in os.walk(directory):\n",
    "        for filename in files:\n",
    "            if len(dirs) == 0:\n",
    "                fname = root + '/' + filename\n",
    "                img = cv2.imread(fname)\n",
    "                crop_img = edge_clip_rotate(img,rotate)\n",
    "                temp_suc,seg_img = template_match(crop_img,head_img)\n",
    "                if temp_suc:\n",
    "                    cv2.imwrite(outputfolder+'seg-'+filename,seg_img)\n",
    "                    \n",
    "                else:\n",
    "                    cv2.imwrite(outputfolder+'fail-'+filename,seg_img)\n",
    "                    \n",
    "               \n",
    "            "
   ]
  },
  {
   "cell_type": "code",
   "execution_count": 43,
   "id": "1a2af59d-9103-422a-9ad4-7408aec542da",
   "metadata": {},
   "outputs": [],
   "source": [
    "def edge_clip_rotate(image,rotate):\n",
    "    gray = cv2.cvtColor(image,cv2.COLOR_RGB2GRAY)\n",
    "    _,thresh = cv2.threshold(gray, np.mean(gray), 255, cv2.THRESH_BINARY_INV)\n",
    "    edges = cv2.dilate(cv2.Canny(thresh,0,255), None)\n",
    "    cnt = sorted(cv2.findContours(edges, cv2.RETR_LIST, cv2.CHAIN_APPROX_SIMPLE)[-2], key = cv2.contourArea)[-1]\n",
    "    mask = np.zeros(gray.shape[0:2],np.uint8)\n",
    "    masked = cv2.drawContours(mask, [cnt],-1,255,-1)\n",
    "    \n",
    "    left = cnt[cnt[:,:,0].argmin()][0]\n",
    "    right = cnt[cnt[:,:,0].argmax()][0]\n",
    "    top = cnt[cnt[:,:,1].argmin()][0]\n",
    "    bottom = cnt[cnt[:,:,1].argmax()][0]\n",
    "    cropped_image = image[left[0]:right[0],top[1]:bottom[1]]\n",
    "    \n",
    "    if(rotate):\n",
    "        lb = (bottom[0]-left[0])/(bottom[1]-left[1])\n",
    "        rb = (right[1]-bottom[1])/(bottom[0]-right[0])\n",
    "        tl = (left[1]-top[1])/(top[0]-left[0])\n",
    "        tr = (right[0]-top[0])/(right[1]-top[1])\n",
    "\n",
    "\n",
    "        if right[1]<left[1]: #if right_y <left_y, that is, page is shifted cw relative to straight\n",
    "            angle = sum([np.arctan(1/tl),np.arctan(1/rb)])*90/np.pi\n",
    "        else:\n",
    "            angle = sum([np.arctan(tr),np.arctan(lb)])*-90/np.pi\n",
    "            multiplier = -1\n",
    "\n",
    "        (h,w) = cropped_image.shape[:2]\n",
    "        center = (w/2,h/2)\n",
    "        rotmat = cv2.getRotationMatrix2D(center,angle,1)\n",
    "        croprot_image = cv2.warpAffine(cropped_image,rotmat,(w,h))\n",
    "        return croprot_image\n",
    "    \n",
    "    else:\n",
    "        return cropped_image"
   ]
  },
  {
   "cell_type": "code",
   "execution_count": 40,
   "id": "94dde0b0-053c-430c-a74b-2842cdb01e77",
   "metadata": {},
   "outputs": [],
   "source": [
    "def template_match(cropped, header):\n",
    "    if header.shape[1]>cropped.shape[1]:\n",
    "        return False, cropped\n",
    "    w,h = header.shape[::-1][1:3]\n",
    "    res = cv2.matchTemplate(cropped,header,cv2.TM_CCOEFF)\n",
    "    min_val, max_val, min_loc, max_loc = cv2.minMaxLoc(res)\n",
    "    top_left = max_loc\n",
    "    bottom_right = (top_left[0]+w,top_left[1]+h)\n",
    "    segmented = cropped[bottom_right[1]:,top_left[0]:bottom_right[0],:]\n",
    "    return True, segmented"
   ]
  },
  {
   "cell_type": "code",
   "execution_count": 85,
   "id": "eaecb2e0-78bd-4feb-9a74-b4fb0aad3a10",
   "metadata": {},
   "outputs": [],
   "source": [
    "#block_segmenter(test_directory,test_header,out_folder)"
   ]
  },
  {
   "cell_type": "markdown",
   "id": "d0050ff8-1a16-4880-8112-5124b93027f8",
   "metadata": {},
   "source": [
    "Pretty good- some duds, but quite a few came out very nicely. You might want to add a test to see if you need to do the crop/rotation part- ex: Alabama clearly doesn't need it, so putting it in there might be a notable loss by doing it. But, it's to be seen. If you just run Alabama and it works fine, why worry?"
   ]
  },
  {
   "cell_type": "code",
   "execution_count": 2,
   "id": "5d32386a-ffee-40e7-9ba5-e35d02a07c18",
   "metadata": {},
   "outputs": [],
   "source": [
    "direc = './data'"
   ]
  },
  {
   "cell_type": "code",
   "execution_count": 37,
   "id": "2e3e6309-7c03-4b0d-9610-d0bcbcb88396",
   "metadata": {
    "tags": []
   },
   "outputs": [],
   "source": [
    "# for root, dirs, files in os.walk(direc):\n",
    "#     for filename in files:\n",
    "#         if len(dirs) ==2:\n",
    "#             print(root+'/'+filename)\n",
    "#             print(root.split('-')[1])"
   ]
  },
  {
   "cell_type": "code",
   "execution_count": 45,
   "id": "72c6f246-088a-4725-914e-f98267be6ce0",
   "metadata": {},
   "outputs": [],
   "source": [
    "def full_directory_block_seg(directory,folders_per_state,rotate):\n",
    "    \n",
    "    for root, dirs, files in os.walk(directory):\n",
    "        for filename in files:\n",
    "            if len(dirs) == folders_per_state:\n",
    "                header = (root+'/'+filename).replace('\\\\','/')\n",
    "                state_dir = (root+'/').replace('\\\\','/')\n",
    "                output = 'segdata/'+root.split('-')[1] +'/blocks/'\n",
    "                os.mkdir('./segdata/'+root.split('-')[1])\n",
    "                os.mkdir('./'+output)\n",
    "                block_segmenter(state_dir,header,output,rotate)\n",
    "\n",
    "            "
   ]
  },
  {
   "cell_type": "code",
   "execution_count": 46,
   "id": "95831428-758f-463e-b9f2-a62fe677f44d",
   "metadata": {},
   "outputs": [],
   "source": [
    "full_directory_block_seg('./data',2,False)"
   ]
  },
  {
   "cell_type": "markdown",
   "id": "85fce2d9-59f7-42e3-8525-1d7af70863d9",
   "metadata": {},
   "source": [
    "11.3 GB, around 1/3 was stripped from the top-level data. Looking at the results, it seems not using the rotation method is smarter. In theory, it can help better align the pages for template matching and cleaner cutting. In practice, however, it seems that the archivists did a good job in aligning the files, to the point that the crude left/right/top/bottom methods are not as useful. To be more precise- there are in some cases papers underneath the currently scanned document, and with angle deviations < 10 degrees, it can often be the case that, for example, even in a counter-clockwise shifted page, the 'left' value and the 'bottom' value might have very similar x values and depending on some factors on placement, it greatly shift the angle, instead of just nudging it, as would be prefered."
   ]
  },
  {
   "cell_type": "markdown",
   "id": "73162d45-579e-4812-a0ca-12a1d87c6fc9",
   "metadata": {},
   "source": [
    "As a further note, it may be the case that the clipping of the black outer line is unnecessary- and in some cases, counterproductive. In some cases, the algorithm finds the dividing line between Col. 14 and 15 and divides on that line- making cutting on the header impossible. In particular, future segmentation may be better served by just segmenting based on a header and footer image and ignoring the left and right segmentation- but as it is now, we already have more than enough entries to label."
   ]
  },
  {
   "cell_type": "markdown",
   "id": "48ba0480-2b48-4b89-a290-5432906787ea",
   "metadata": {},
   "source": [
    "As a further note- while there was one header image used per each state, depending on the view of the data, it might be possible to do multiple states with one header, or on the other hand, using one header per folder, depending on how much the formatting can change"
   ]
  },
  {
   "cell_type": "markdown",
   "id": "9c83fe62-26d8-46ab-ac5d-c30101cbc110",
   "metadata": {},
   "source": [
    "Let's now look at how many 'failures' (in this case, only defined as cases where the header image was wider than the cropped image) there were in each state, by state, so as to better understand the data."
   ]
  },
  {
   "cell_type": "code",
   "execution_count": 73,
   "id": "d95efd4b-9bd7-4e43-968f-fb283fb34e68",
   "metadata": {},
   "outputs": [
    {
     "data": {
      "text/plain": [
       "2"
      ]
     },
     "execution_count": 73,
     "metadata": {},
     "output_type": "execute_result"
    }
   ],
   "source": [
    "a.shape[0]"
   ]
  },
  {
   "cell_type": "code",
   "execution_count": 63,
   "id": "7f4e3fe6-f3e0-4f5b-bfbc-e77017725b8e",
   "metadata": {},
   "outputs": [],
   "source": [
    "a = np.array([1,'a'])"
   ]
  },
  {
   "cell_type": "code",
   "execution_count": 72,
   "id": "20557ac0-4097-4291-b94c-be78f4b9d9e4",
   "metadata": {},
   "outputs": [
    {
     "data": {
      "text/plain": [
       "(2, 2)"
      ]
     },
     "execution_count": 72,
     "metadata": {},
     "output_type": "execute_result"
    }
   ],
   "source": [
    "np.append(a,[2,'b']).reshape([2,2]).shape"
   ]
  },
  {
   "cell_type": "code",
   "execution_count": 83,
   "id": "3ff68e91-6e91-4fe6-8474-067d5e9b0c9b",
   "metadata": {},
   "outputs": [],
   "source": [
    "a = np.array([])\n",
    "for root, dirs, files in os.walk('./segdata'):\n",
    "    if len(files)>2:\n",
    "        failed = 0\n",
    "        for filename in files:\n",
    "            if filename.split('-')[0] == 'fail':\n",
    "                failed = failed + 1\n",
    "                \n",
    "        a = np.append(a,[root.split('\\\\')[1],len(files),failed,round(failed/len(files),2)])\n",
    "        \n",
    "a = a.reshape([int(a.shape[0]/4),4])"
   ]
  },
  {
   "cell_type": "code",
   "execution_count": 84,
   "id": "87564afc-5c66-4bf3-914a-1a26e49fe18c",
   "metadata": {},
   "outputs": [],
   "source": [
    "a = pd.DataFrame(a,columns=['state','total','failed','percent_failed'])"
   ]
  },
  {
   "cell_type": "code",
   "execution_count": 86,
   "id": "71b88cf5-9252-405f-8aba-d336e196fd9d",
   "metadata": {},
   "outputs": [],
   "source": [
    "a.set_index('state',inplace=True)"
   ]
  },
  {
   "cell_type": "code",
   "execution_count": 91,
   "id": "ec9e56d6-46c9-4d2c-9719-b2646f66f31e",
   "metadata": {},
   "outputs": [
    {
     "data": {
      "text/html": [
       "<div>\n",
       "<style scoped>\n",
       "    .dataframe tbody tr th:only-of-type {\n",
       "        vertical-align: middle;\n",
       "    }\n",
       "\n",
       "    .dataframe tbody tr th {\n",
       "        vertical-align: top;\n",
       "    }\n",
       "\n",
       "    .dataframe thead th {\n",
       "        text-align: right;\n",
       "    }\n",
       "</style>\n",
       "<table border=\"1\" class=\"dataframe\">\n",
       "  <thead>\n",
       "    <tr style=\"text-align: right;\">\n",
       "      <th></th>\n",
       "      <th>total</th>\n",
       "      <th>failed</th>\n",
       "      <th>percent_failed</th>\n",
       "    </tr>\n",
       "    <tr>\n",
       "      <th>state</th>\n",
       "      <th></th>\n",
       "      <th></th>\n",
       "      <th></th>\n",
       "    </tr>\n",
       "  </thead>\n",
       "  <tbody>\n",
       "    <tr>\n",
       "      <th>Virgin_Islands</th>\n",
       "      <td>50</td>\n",
       "      <td>50</td>\n",
       "      <td>1.0</td>\n",
       "    </tr>\n",
       "    <tr>\n",
       "      <th>Panama_Canal_Zone</th>\n",
       "      <td>104</td>\n",
       "      <td>104</td>\n",
       "      <td>1.0</td>\n",
       "    </tr>\n",
       "    <tr>\n",
       "      <th>Alaska</th>\n",
       "      <td>33</td>\n",
       "      <td>33</td>\n",
       "      <td>1.0</td>\n",
       "    </tr>\n",
       "    <tr>\n",
       "      <th>Guam</th>\n",
       "      <td>50</td>\n",
       "      <td>50</td>\n",
       "      <td>1.0</td>\n",
       "    </tr>\n",
       "    <tr>\n",
       "      <th>Puerto_Rico</th>\n",
       "      <td>56</td>\n",
       "      <td>56</td>\n",
       "      <td>1.0</td>\n",
       "    </tr>\n",
       "    <tr>\n",
       "      <th>Colorado</th>\n",
       "      <td>32</td>\n",
       "      <td>21</td>\n",
       "      <td>0.66</td>\n",
       "    </tr>\n",
       "    <tr>\n",
       "      <th>Wyoming</th>\n",
       "      <td>5</td>\n",
       "      <td>2</td>\n",
       "      <td>0.4</td>\n",
       "    </tr>\n",
       "    <tr>\n",
       "      <th>New_Hampshire</th>\n",
       "      <td>61</td>\n",
       "      <td>20</td>\n",
       "      <td>0.33</td>\n",
       "    </tr>\n",
       "    <tr>\n",
       "      <th>Georgia</th>\n",
       "      <td>54</td>\n",
       "      <td>9</td>\n",
       "      <td>0.17</td>\n",
       "    </tr>\n",
       "    <tr>\n",
       "      <th>New_Jersey</th>\n",
       "      <td>62</td>\n",
       "      <td>10</td>\n",
       "      <td>0.16</td>\n",
       "    </tr>\n",
       "  </tbody>\n",
       "</table>\n",
       "</div>"
      ],
      "text/plain": [
       "                  total failed percent_failed\n",
       "state                                        \n",
       "Virgin_Islands       50     50            1.0\n",
       "Panama_Canal_Zone   104    104            1.0\n",
       "Alaska               33     33            1.0\n",
       "Guam                 50     50            1.0\n",
       "Puerto_Rico          56     56            1.0\n",
       "Colorado             32     21           0.66\n",
       "Wyoming               5      2            0.4\n",
       "New_Hampshire        61     20           0.33\n",
       "Georgia              54      9           0.17\n",
       "New_Jersey           62     10           0.16"
      ]
     },
     "execution_count": 91,
     "metadata": {},
     "output_type": "execute_result"
    }
   ],
   "source": [
    "a.sort_values(by='percent_failed',ascending=False).head(10)"
   ]
  },
  {
   "cell_type": "markdown",
   "id": "461d89f8-1fd2-4e52-a461-ccb33ccb5ec7",
   "metadata": {},
   "source": [
    "It's worth thinking about why exactly those 5 states failed in every single case- with Guam, it seems the clipping algorithm is mainly to blame, as it cut almost every table on the aforementioned division between col 14 and 15. The others are mysterious, however. That being said, we have more than enough data as is to proceed with just we have. This will be something for further consideration further down the line."
   ]
  },
  {
   "cell_type": "markdown",
   "id": "55a50550-80d6-47a1-a34d-ac68a8f70a1c",
   "metadata": {},
   "source": [
    "In the next notebook, we will finally whittle all these segments down into cells that can be labeled"
   ]
  },
  {
   "cell_type": "code",
   "execution_count": null,
   "id": "db2fc3a4-f104-4165-9590-842f0958f247",
   "metadata": {},
   "outputs": [],
   "source": []
  }
 ],
 "metadata": {
  "kernelspec": {
   "display_name": "Python 3 (ipykernel)",
   "language": "python",
   "name": "python3"
  },
  "language_info": {
   "codemirror_mode": {
    "name": "ipython",
    "version": 3
   },
   "file_extension": ".py",
   "mimetype": "text/x-python",
   "name": "python",
   "nbconvert_exporter": "python",
   "pygments_lexer": "ipython3",
   "version": "3.9.7"
  }
 },
 "nbformat": 4,
 "nbformat_minor": 5
}
